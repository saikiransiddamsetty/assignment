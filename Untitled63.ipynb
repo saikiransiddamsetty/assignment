{
 "cells": [
  {
   "cell_type": "markdown",
   "id": "6e50d205",
   "metadata": {},
   "source": [
    "1. Create a function in python to read the text file and replace specific content\n",
    "of the file.\n",
    "File name example.txt\n",
    "Origin file content This is a placement assignment\n",
    "Replace string Placement should be replaced by\n",
    "screening.\n",
    "Replaced file content This is a screening assignment"
   ]
  },
  {
   "cell_type": "code",
   "execution_count": 2,
   "id": "060ce290",
   "metadata": {},
   "outputs": [],
   "source": [
    "a = 'example.txt'"
   ]
  },
  {
   "cell_type": "code",
   "execution_count": 4,
   "id": "990a1af7",
   "metadata": {},
   "outputs": [],
   "source": [
    "a = 'This is a placement assignment'"
   ]
  },
  {
   "cell_type": "code",
   "execution_count": 15,
   "id": "c424c67b",
   "metadata": {},
   "outputs": [],
   "source": [
    "b= a.replace('placement','screening')"
   ]
  },
  {
   "cell_type": "code",
   "execution_count": 16,
   "id": "81f7073b",
   "metadata": {},
   "outputs": [
    {
     "data": {
      "text/plain": [
       "'This is a screening assignment'"
      ]
     },
     "execution_count": 16,
     "metadata": {},
     "output_type": "execute_result"
    }
   ],
   "source": [
    "b"
   ]
  },
  {
   "cell_type": "markdown",
   "id": "f86310ef",
   "metadata": {},
   "source": [
    "Demonstrate use of abstract class, multiple inheritance and decorator in\n",
    "python using examples"
   ]
  },
  {
   "cell_type": "markdown",
   "id": "e7f11b4b",
   "metadata": {},
   "source": [
    "# abstract"
   ]
  },
  {
   "cell_type": "code",
   "execution_count": 17,
   "id": "ec8786cd",
   "metadata": {},
   "outputs": [
    {
     "name": "stdout",
     "output_type": "stream",
     "text": [
      "I can walk and run\n",
      "I can crawl\n",
      "I can bark\n",
      "I can roar\n"
     ]
    }
   ],
   "source": [
    "from abc import ABC, abstractmethod\n",
    "class Animal(ABC):\n",
    "    def move(self):\n",
    "        pass\n",
    "class Human(Animal):\n",
    "    def move(self):\n",
    "        try:\n",
    "            print(\"I can walk and run\")\n",
    "        except Exception as e:\n",
    "            print(e)\n",
    "class Snake(Animal):\n",
    "    def move(self):\n",
    "        try:\n",
    "            print(\"I can crawl\")\n",
    "        except Exception as e:\n",
    "            print(e)\n",
    "class Dog(Animal):\n",
    "    def move(self):\n",
    "        try:\n",
    "            print(\"I can bark\")\n",
    "        except Exception as e:\n",
    "            print(e)\n",
    "class Lion(Animal):\n",
    "    def move(self):\n",
    "        try:\n",
    "            print(\"I can roar\")\n",
    "        except Exception as e:\n",
    "            print(e)\n",
    "         \n",
    "\n",
    "        \n",
    "R = Human()\n",
    "R.move()\n",
    " \n",
    "K = Snake()\n",
    "K.move()\n",
    " \n",
    "R = Dog()\n",
    "R.move()\n",
    " \n",
    "K = Lion()\n",
    "K.move()"
   ]
  },
  {
   "cell_type": "markdown",
   "id": "b564de36",
   "metadata": {},
   "source": [
    "# inheritance"
   ]
  },
  {
   "cell_type": "code",
   "execution_count": 18,
   "id": "339e7cbd",
   "metadata": {},
   "outputs": [
    {
     "name": "stdout",
     "output_type": "stream",
     "text": [
      "I smash and I've got the brains!\n"
     ]
    }
   ],
   "source": [
    "#use of multiple inheritance with example\n",
    "class hulk:\n",
    "    def smash(self):\n",
    "        return \"I smash\"\n",
    "class banner:\n",
    "    def speak(self):\n",
    "        return \"I've got the brains!\"\n",
    "class smarthulk(hulk, banner):\n",
    "    pass\n",
    "s1 = smarthulk()\n",
    "print(s1.smash(), \"and\", s1.speak())\n",
    "\n"
   ]
  },
  {
   "cell_type": "markdown",
   "id": "727a56d1",
   "metadata": {},
   "source": [
    "# decorators"
   ]
  },
  {
   "cell_type": "code",
   "execution_count": 23,
   "id": "d7022aa1",
   "metadata": {},
   "outputs": [
    {
     "data": {
      "text/plain": [
       "'911'"
      ]
     },
     "execution_count": 23,
     "metadata": {},
     "output_type": "execute_result"
    }
   ],
   "source": [
    "class Cellphone:\n",
    "    def __init__(self, brand, number):\n",
    "        self.brand = brand\n",
    "        self.number = number\n",
    "        \n",
    "    def get_number(self):\n",
    "        return self.number\n",
    "      \n",
    "    @staticmethod\n",
    "    def get_emergency_number():\n",
    "        return \"911\"\n",
    "      \n",
    "Cellphone.get_emergency_number()\n"
   ]
  },
  {
   "cell_type": "code",
   "execution_count": null,
   "id": "313ba42d",
   "metadata": {},
   "outputs": [],
   "source": []
  }
 ],
 "metadata": {
  "kernelspec": {
   "display_name": "Python 3 (ipykernel)",
   "language": "python",
   "name": "python3"
  },
  "language_info": {
   "codemirror_mode": {
    "name": "ipython",
    "version": 3
   },
   "file_extension": ".py",
   "mimetype": "text/x-python",
   "name": "python",
   "nbconvert_exporter": "python",
   "pygments_lexer": "ipython3",
   "version": "3.9.7"
  }
 },
 "nbformat": 4,
 "nbformat_minor": 5
}
